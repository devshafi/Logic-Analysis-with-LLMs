{
  "cells": [
    {
      "cell_type": "markdown",
      "metadata": {
        "id": "2USH1KXojhUA"
      },
      "source": [
        "Install Pacakge"
      ]
    },
    {
      "cell_type": "code",
      "execution_count": 1,
      "metadata": {
        "id": "rRA9nxHUjWIV"
      },
      "outputs": [
        {
          "name": "stdout",
          "output_type": "stream",
          "text": [
            "\n",
            "\u001b[1m[\u001b[0m\u001b[34;49mnotice\u001b[0m\u001b[1;39;49m]\u001b[0m\u001b[39;49m A new release of pip is available: \u001b[0m\u001b[31;49m24.0\u001b[0m\u001b[39;49m -> \u001b[0m\u001b[32;49m25.0.1\u001b[0m\n",
            "\u001b[1m[\u001b[0m\u001b[34;49mnotice\u001b[0m\u001b[1;39;49m]\u001b[0m\u001b[39;49m To update, run: \u001b[0m\u001b[32;49mpip install --upgrade pip\u001b[0m\n"
          ]
        }
      ],
      "source": [
        "!pip install -q transformers datasets z3-solver scikit-learn"
      ]
    },
    {
      "cell_type": "code",
      "execution_count": null,
      "metadata": {
        "id": "02dpr850jmRZ"
      },
      "outputs": [],
      "source": [
        "from transformers import pipeline\n",
        "from datasets import load_dataset\n",
        "import random\n",
        "import pandas as pd\n",
        "from sklearn.feature_extraction.text import TfidfVectorizer\n",
        "from sklearn.metrics.pairwise import cosine_similarity\n",
        "from z3 import *\n",
        "import matplotlib.pyplot as plt\n",
        "from tqdm import tqdm\n",
        "import re\n",
        "import ast\n"
      ]
    },
    {
      "cell_type": "markdown",
      "metadata": {},
      "source": [
        "Load Text2Log dataset (1000 samples)"
      ]
    },
    {
      "cell_type": "code",
      "execution_count": 118,
      "metadata": {
        "id": "iviQRjypjn8o"
      },
      "outputs": [],
      "source": [
        "# Load Text2Log dataset (1000 samples)\n",
        "dataset = load_dataset(\"alevkov95/text2log\")\n",
        "data = dataset[\"train\"].select(range(1000))\n"
      ]
    },
    {
      "cell_type": "code",
      "execution_count": 4,
      "metadata": {
        "id": "hH60pCSxqXR0"
      },
      "outputs": [
        {
          "data": {
            "application/vnd.jupyter.widget-view+json": {
              "model_id": "16a3d6b3e28640eaa1dcb32f22aad387",
              "version_major": 2,
              "version_minor": 0
            },
            "text/plain": [
              "VBox(children=(HTML(value='<center> <img\\nsrc=https://huggingface.co/front/assets/huggingface_logo-noborder.sv…"
            ]
          },
          "metadata": {},
          "output_type": "display_data"
        }
      ],
      "source": [
        "from huggingface_hub import login\n",
        "login()"
      ]
    },
    {
      "cell_type": "markdown",
      "metadata": {},
      "source": [
        "Load LLaMA model"
      ]
    },
    {
      "cell_type": "code",
      "execution_count": 113,
      "metadata": {
        "id": "h2jP7EESj_G3"
      },
      "outputs": [],
      "source": [
        "# Load LLaMA model\n",
        "from transformers import AutoTokenizer\n",
        "import torch\n",
        "tokenizer = AutoTokenizer.from_pretrained(\"meta-llama/Llama-3.2-1B-Instruct\")\n",
        "\n",
        "pipe = pipeline(\n",
        "    \"text-generation\",\n",
        "    model=\"meta-llama/Llama-3.2-1B-Instruct\",\n",
        "    tokenizer=tokenizer,\n",
        "    device_map=\"auto\",\n",
        "    pad_token_id=tokenizer.eos_token_id,\n",
        "    torch_dtype=torch.bfloat16 if torch.cuda.is_available() else torch.float32\n",
        ")\n"
      ]
    },
    {
      "cell_type": "markdown",
      "metadata": {
        "id": "f8z8f_yzk4BN"
      },
      "source": [
        "## Prompt Engineering"
      ]
    },
    {
      "cell_type": "markdown",
      "metadata": {},
      "source": [
        "instruction_prompt"
      ]
    },
    {
      "cell_type": "code",
      "execution_count": 111,
      "metadata": {
        "id": "K4LvVXk_k6-F"
      },
      "outputs": [],
      "source": [
        "instruction_prompt = \"\"\"\n",
        "You are a predicate logic assistant specializing in translating natural language into first-order logic (FOL).\n",
        "Respond only with a valid FOL expression that is logically equivalent to the given sentence.\n",
        "\"\"\""
      ]
    },
    {
      "cell_type": "markdown",
      "metadata": {},
      "source": [
        "Few_shot_prompt"
      ]
    },
    {
      "cell_type": "code",
      "execution_count": 115,
      "metadata": {
        "id": "pzjFol0flAhF"
      },
      "outputs": [],
      "source": [
        "def build_few_shot_prompt(input_sentence, examples):\n",
        "    demo_str = \"\\n\".join([f\"Sentence: {ex['sentence']}\\nFOL: {ex['fol_translation']}\" for ex in examples])\n",
        "    user_prompt = f\"{demo_str}\\n\\nSentence: {input_sentence}\\nFOL:\"\n",
        "    return user_prompt"
      ]
    },
    {
      "cell_type": "markdown",
      "metadata": {
        "id": "FaCODwn8lB5X"
      },
      "source": [
        "## Evaluation Methods"
      ]
    },
    {
      "cell_type": "markdown",
      "metadata": {},
      "source": [
        "Cosine_similarity and z3_similarity"
      ]
    },
    {
      "cell_type": "code",
      "execution_count": 97,
      "metadata": {
        "id": "-fUTOJhNlGtM"
      },
      "outputs": [],
      "source": [
        "def cosine_similarity_score(a, b):\n",
        "    if isinstance(a, list): a = \" \".join(map(str, a))\n",
        "    if isinstance(b, list): b = \" \".join(map(str, b))\n",
        "    \n",
        "    vec = TfidfVectorizer().fit_transform([a, b])\n",
        "    return cosine_similarity(vec[0], vec[1])[0][0]\n",
        "def text2log_to_z3(expr):\n",
        "    expr = re.sub(r'\\bexists\\s+(x\\d+)\\.', r'Exists(\\1,', expr)\n",
        "    expr = re.sub(r'\\bforall\\s+(x\\d+)\\.', r'ForAll(\\1,', expr)\n",
        "    expr = re.sub(r'(?<![=!<>])=(?!=)', '==', expr)\n",
        "    expr = expr.replace('&', ',').replace('|', ',')\n",
        "    expr = re.sub(r'(?<=\\w)\\s+(?=\\w)', '', expr)  \n",
        "    if expr.count('(') > expr.count(')'):\n",
        "        expr += ')' * (expr.count('(') - expr.count(')'))\n",
        "    return expr\n",
        "\n",
        "def same_predicate_set(f1, f2):\n",
        "    preds1 = set(re.findall(r'\\b_?[a-zA-Z_]+\\b(?=\\()', f1))\n",
        "    preds2 = set(re.findall(r'\\b_?[a-zA-Z_]+\\b(?=\\()', f2))\n",
        "    return preds1 == preds2\n",
        "\n",
        "def z3_equivalent(pred_formula, gold_formula):\n",
        "    if not same_predicate_set(pred_formula, gold_formula):\n",
        "        return False \n",
        "    try:\n",
        "        pred_formula = text2log_to_z3(pred_formula)\n",
        "        gold_formula = text2log_to_z3(gold_formula)\n",
        "        # print(pred_formula,gold_formula)\n",
        "        all_text = pred_formula + gold_formula\n",
        "        var_names = sorted(set(re.findall(r'\\bx\\d+\\b', all_text)))\n",
        "        func_names = sorted(set(re.findall(r'\\b_?[a-zA-Z_]+\\b(?=\\()', all_text)) - set(var_names))\n",
        "\n",
        "        local_dict = {v: Const(v, IntSort()) for v in var_names}\n",
        "        for f in func_names:\n",
        "            local_dict[f] = Function(f, IntSort(), BoolSort())\n",
        "\n",
        "        local_dict.update({\"And\": And, \"Or\": Or, \"Not\": Not, \"Implies\": Implies,\n",
        "                           \"Exists\": Exists, \"ForAll\": ForAll})\n",
        "\n",
        "        pred = eval(pred_formula, {}, local_dict)\n",
        "        gold = eval(gold_formula, {}, local_dict)\n",
        "        # print(pred,gold)\n",
        "        s = Solver()\n",
        "        s.add(Not(pred == gold))\n",
        "        return s.check() == unsat\n",
        "    except Exception as e:\n",
        "        return False"
      ]
    },
    {
      "cell_type": "code",
      "execution_count": 109,
      "metadata": {},
      "outputs": [],
      "source": [
        "# z3_equivalent(data_df[\"F_output\"][2], data_df[\"gold_fol\"][0])"
      ]
    },
    {
      "cell_type": "markdown",
      "metadata": {
        "id": "ysvy3jVjlK1p"
      },
      "source": [
        "Run model on data with different prompts"
      ]
    },
    {
      "cell_type": "code",
      "execution_count": 132,
      "metadata": {},
      "outputs": [
        {
          "data": {
            "text/plain": [
              "('Some reports were duplicates.',\n",
              " 'exists x1.(_report(x1) & exists x2.(_duplicate(x2) & (x1 = x2)))')"
            ]
          },
          "execution_count": 132,
          "metadata": {},
          "output_type": "execute_result"
        }
      ],
      "source": [
        "example=random.sample(list(data), 1)[0]\n",
        "input_sentence = example['sentence']\n",
        "target_fol = example['fol_translation']\n",
        "input_sentence,target_fol"
      ]
    },
    {
      "cell_type": "markdown",
      "metadata": {},
      "source": [
        "Example for Instruction prompt"
      ]
    },
    {
      "cell_type": "code",
      "execution_count": 133,
      "metadata": {},
      "outputs": [
        {
          "name": "stderr",
          "output_type": "stream",
          "text": [
            "/home/jingtao/.venv/lib/python3.8/site-packages/transformers/generation/configuration_utils.py:590: UserWarning: `do_sample` is set to `False`. However, `temperature` is set to `0.6` -- this flag is only used in sample-based generation modes. You should set `do_sample=True` or unset `temperature`.\n",
            "  warnings.warn(\n",
            "/home/jingtao/.venv/lib/python3.8/site-packages/transformers/generation/configuration_utils.py:595: UserWarning: `do_sample` is set to `False`. However, `top_p` is set to `0.9` -- this flag is only used in sample-based generation modes. You should set `do_sample=True` or unset `top_p`.\n",
            "  warnings.warn(\n"
          ]
        },
        {
          "data": {
            "text/plain": [
              "[[{'generated_text': [{'role': 'system',\n",
              "     'content': '\\nYou are a predicate logic assistant specializing in translating natural language into first-order logic (FOL).\\nRespond only with a valid FOL expression that is logically equivalent to the given sentence.\\n'},\n",
              "    {'role': 'user',\n",
              "     'content': 'Translate this sentence into first-order logic:\\n\"Some reports were duplicates.\"'},\n",
              "    {'role': 'assistant',\n",
              "     'content': 'The translation of the sentence \"Some reports were duplicates\" into first-order logic is:\\n\\n∃x (Report(x) ∧ Report(x) ∧ Report(x))'}]}]]"
            ]
          },
          "execution_count": 133,
          "metadata": {},
          "output_type": "execute_result"
        }
      ],
      "source": [
        "# Example for Instruction \n",
        "dummy_prompt = [[\n",
        "    {\"role\": \"system\", \"content\": instruction_prompt},\n",
        "    {\n",
        "    \"role\": \"user\",\n",
        "    \"content\": f'Translate this sentence into first-order logic:\\n\"{input_sentence}\"'\n",
        "    }\n",
        "]]\n",
        "\n",
        "pipe(dummy_prompt, max_new_tokens=64, do_sample=False)"
      ]
    },
    {
      "cell_type": "markdown",
      "metadata": {},
      "source": [
        "Example for Few_shot Prompt"
      ]
    },
    {
      "cell_type": "code",
      "execution_count": null,
      "metadata": {},
      "outputs": [
        {
          "name": "stdout",
          "output_type": "stream",
          "text": [
            "\n"
          ]
        },
        {
          "data": {
            "text/plain": [
              "[[{'generated_text': [{'role': 'system',\n",
              "     'content': '\\nYou are a predicate logic assistant specializing in translating natural language into first-order logic (FOL).\\nRespond only with a valid FOL expression that is logically equivalent to the given sentence.\\n'},\n",
              "    {'role': 'user',\n",
              "     'content': 'Sentence: Some teachers were Americans.\\nFOL: exists x1.(_teacher(x1) & exists x2.(_americans(x2) & (x1 = x2)))\\nSentence: Some children are worriers.\\nFOL: exists x1.(_child(x1) & exists x2.(_worrier(x2) & (x1 = x2)))\\nSentence: Some folks are naysayers.\\nFOL: exists x1.(_folk(x1) & exists x2.(_naysayer(x2) & (x1 = x2)))\\nSentence: Some things are mistakes.\\nFOL: exists x1.(_thing(x1) & exists x2.(_mistake(x2) & (x1 = x2)))\\nSentence: Some people are asshats.\\nFOL: exists x1.(_people(x1) & exists x2.(_asshat(x2) & (x1 = x2)))\\n\\nSentence: Some reports were duplicates.\\nFOL:'},\n",
              "    {'role': 'assistant',\n",
              "     'content': 'Sentence: Some reports were duplicates.\\nFOL: exists x1.(_report(x1) & exists x2.(_duplicate(x2) & (x1 = x2)))'}]}]]"
            ]
          },
          "execution_count": 134,
          "metadata": {},
          "output_type": "execute_result"
        }
      ],
      "source": [
        "few_shot_example = random.sample(list(data), 5)\n",
        "fewshot_user_prompt = build_few_shot_prompt(input_sentence, few_shot_example)\n",
        "\n",
        "fewshot_prompt = [[\n",
        "    {\"role\": \"system\", \"content\": instruction_prompt},\n",
        "    {\"role\": \"user\", \"content\": fewshot_user_prompt}\n",
        "]]\n",
        "# \n",
        "pipe(fewshot_prompt, max_new_tokens=64, do_sample=False)\n"
      ]
    },
    {
      "cell_type": "code",
      "execution_count": 29,
      "metadata": {},
      "outputs": [],
      "source": [
        "def extract_generated_text(entry):\n",
        "    if isinstance(entry, str):\n",
        "        return entry\n",
        "    elif isinstance(entry, dict) and 'generated_text' in entry:\n",
        "        return entry['generated_text']\n",
        "    elif isinstance(entry, list) and len(entry) > 0:\n",
        "        return extract_generated_text(entry[0])  \n",
        "    return \"\"\n"
      ]
    },
    {
      "cell_type": "markdown",
      "metadata": {},
      "source": [
        "train code"
      ]
    },
    {
      "cell_type": "code",
      "execution_count": 30,
      "metadata": {
        "id": "juP0O5ONlN4i"
      },
      "outputs": [
        {
          "name": "stderr",
          "output_type": "stream",
          "text": [
            "Processing batches:   0%|          | 0/100 [00:00<?, ?it/s]"
          ]
        },
        {
          "name": "stdout",
          "output_type": "stream",
          "text": [
            "Running batch 0...\n"
          ]
        },
        {
          "name": "stderr",
          "output_type": "stream",
          "text": [
            "Processing batches:   1%|          | 1/100 [00:28<47:39, 28.89s/it]"
          ]
        },
        {
          "name": "stdout",
          "output_type": "stream",
          "text": [
            "Running batch 10...\n"
          ]
        },
        {
          "name": "stderr",
          "output_type": "stream",
          "text": [
            "Processing batches:   2%|▏         | 2/100 [01:08<57:17, 35.08s/it]"
          ]
        },
        {
          "name": "stdout",
          "output_type": "stream",
          "text": [
            "Running batch 20...\n"
          ]
        },
        {
          "name": "stderr",
          "output_type": "stream",
          "text": [
            "Processing batches:   3%|▎         | 3/100 [01:39<53:44, 33.24s/it]"
          ]
        },
        {
          "name": "stdout",
          "output_type": "stream",
          "text": [
            "Running batch 30...\n"
          ]
        },
        {
          "name": "stderr",
          "output_type": "stream",
          "text": [
            "Processing batches:   4%|▍         | 4/100 [02:13<53:47, 33.62s/it]"
          ]
        },
        {
          "name": "stdout",
          "output_type": "stream",
          "text": [
            "Running batch 40...\n"
          ]
        },
        {
          "name": "stderr",
          "output_type": "stream",
          "text": [
            "Processing batches:   5%|▌         | 5/100 [02:43<51:03, 32.25s/it]"
          ]
        },
        {
          "name": "stdout",
          "output_type": "stream",
          "text": [
            "Running batch 50...\n"
          ]
        },
        {
          "name": "stderr",
          "output_type": "stream",
          "text": [
            "Processing batches:   6%|▌         | 6/100 [03:19<52:25, 33.47s/it]"
          ]
        },
        {
          "name": "stdout",
          "output_type": "stream",
          "text": [
            "Running batch 60...\n"
          ]
        },
        {
          "name": "stderr",
          "output_type": "stream",
          "text": [
            "Processing batches:   7%|▋         | 7/100 [03:57<54:23, 35.10s/it]"
          ]
        },
        {
          "name": "stdout",
          "output_type": "stream",
          "text": [
            "Running batch 70...\n"
          ]
        },
        {
          "name": "stderr",
          "output_type": "stream",
          "text": [
            "Processing batches:   8%|▊         | 8/100 [04:30<52:43, 34.39s/it]"
          ]
        },
        {
          "name": "stdout",
          "output_type": "stream",
          "text": [
            "Running batch 80...\n"
          ]
        },
        {
          "name": "stderr",
          "output_type": "stream",
          "text": [
            "Processing batches:   9%|▉         | 9/100 [05:04<52:08, 34.38s/it]"
          ]
        },
        {
          "name": "stdout",
          "output_type": "stream",
          "text": [
            "Running batch 90...\n"
          ]
        },
        {
          "name": "stderr",
          "output_type": "stream",
          "text": [
            "Processing batches:  10%|█         | 10/100 [05:37<50:51, 33.90s/it]"
          ]
        },
        {
          "name": "stdout",
          "output_type": "stream",
          "text": [
            "Running batch 100...\n"
          ]
        },
        {
          "name": "stderr",
          "output_type": "stream",
          "text": [
            "Processing batches:  11%|█         | 11/100 [06:10<49:34, 33.42s/it]"
          ]
        },
        {
          "name": "stdout",
          "output_type": "stream",
          "text": [
            "Running batch 110...\n"
          ]
        },
        {
          "name": "stderr",
          "output_type": "stream",
          "text": [
            "Processing batches:  12%|█▏        | 12/100 [06:41<48:09, 32.83s/it]"
          ]
        },
        {
          "name": "stdout",
          "output_type": "stream",
          "text": [
            "Running batch 120...\n"
          ]
        },
        {
          "name": "stderr",
          "output_type": "stream",
          "text": [
            "Processing batches:  13%|█▎        | 13/100 [07:15<48:17, 33.31s/it]"
          ]
        },
        {
          "name": "stdout",
          "output_type": "stream",
          "text": [
            "Running batch 130...\n"
          ]
        },
        {
          "name": "stderr",
          "output_type": "stream",
          "text": [
            "Processing batches:  14%|█▍        | 14/100 [07:47<46:56, 32.75s/it]"
          ]
        },
        {
          "name": "stdout",
          "output_type": "stream",
          "text": [
            "Running batch 140...\n"
          ]
        },
        {
          "name": "stderr",
          "output_type": "stream",
          "text": [
            "Processing batches:  15%|█▌        | 15/100 [08:16<44:44, 31.59s/it]"
          ]
        },
        {
          "name": "stdout",
          "output_type": "stream",
          "text": [
            "Running batch 150...\n"
          ]
        },
        {
          "name": "stderr",
          "output_type": "stream",
          "text": [
            "Processing batches:  16%|█▌        | 16/100 [08:56<47:53, 34.21s/it]"
          ]
        },
        {
          "name": "stdout",
          "output_type": "stream",
          "text": [
            "Running batch 160...\n"
          ]
        },
        {
          "name": "stderr",
          "output_type": "stream",
          "text": [
            "Processing batches:  17%|█▋        | 17/100 [09:30<47:20, 34.22s/it]"
          ]
        },
        {
          "name": "stdout",
          "output_type": "stream",
          "text": [
            "Running batch 170...\n"
          ]
        },
        {
          "name": "stderr",
          "output_type": "stream",
          "text": [
            "Processing batches:  18%|█▊        | 18/100 [10:09<48:24, 35.42s/it]"
          ]
        },
        {
          "name": "stdout",
          "output_type": "stream",
          "text": [
            "Running batch 180...\n"
          ]
        },
        {
          "name": "stderr",
          "output_type": "stream",
          "text": [
            "Processing batches:  19%|█▉        | 19/100 [10:50<50:22, 37.32s/it]"
          ]
        },
        {
          "name": "stdout",
          "output_type": "stream",
          "text": [
            "Running batch 190...\n"
          ]
        },
        {
          "name": "stderr",
          "output_type": "stream",
          "text": [
            "Processing batches:  20%|██        | 20/100 [11:26<49:08, 36.86s/it]"
          ]
        },
        {
          "name": "stdout",
          "output_type": "stream",
          "text": [
            "Running batch 200...\n"
          ]
        },
        {
          "name": "stderr",
          "output_type": "stream",
          "text": [
            "Processing batches:  21%|██        | 21/100 [12:02<48:15, 36.65s/it]"
          ]
        },
        {
          "name": "stdout",
          "output_type": "stream",
          "text": [
            "Running batch 210...\n"
          ]
        },
        {
          "name": "stderr",
          "output_type": "stream",
          "text": [
            "Processing batches:  22%|██▏       | 22/100 [12:39<47:36, 36.62s/it]"
          ]
        },
        {
          "name": "stdout",
          "output_type": "stream",
          "text": [
            "Running batch 220...\n"
          ]
        },
        {
          "name": "stderr",
          "output_type": "stream",
          "text": [
            "Processing batches:  23%|██▎       | 23/100 [13:19<48:14, 37.59s/it]"
          ]
        },
        {
          "name": "stdout",
          "output_type": "stream",
          "text": [
            "Running batch 230...\n"
          ]
        },
        {
          "name": "stderr",
          "output_type": "stream",
          "text": [
            "Processing batches:  24%|██▍       | 24/100 [13:50<45:05, 35.59s/it]"
          ]
        },
        {
          "name": "stdout",
          "output_type": "stream",
          "text": [
            "Running batch 240...\n"
          ]
        },
        {
          "name": "stderr",
          "output_type": "stream",
          "text": [
            "Processing batches:  25%|██▌       | 25/100 [14:23<43:36, 34.89s/it]"
          ]
        },
        {
          "name": "stdout",
          "output_type": "stream",
          "text": [
            "Running batch 250...\n"
          ]
        },
        {
          "name": "stderr",
          "output_type": "stream",
          "text": [
            "Processing batches:  26%|██▌       | 26/100 [14:56<42:28, 34.44s/it]"
          ]
        },
        {
          "name": "stdout",
          "output_type": "stream",
          "text": [
            "Running batch 260...\n"
          ]
        },
        {
          "name": "stderr",
          "output_type": "stream",
          "text": [
            "Processing batches:  27%|██▋       | 27/100 [15:36<43:47, 36.00s/it]"
          ]
        },
        {
          "name": "stdout",
          "output_type": "stream",
          "text": [
            "Running batch 270...\n"
          ]
        },
        {
          "name": "stderr",
          "output_type": "stream",
          "text": [
            "Processing batches:  28%|██▊       | 28/100 [16:14<43:52, 36.56s/it]"
          ]
        },
        {
          "name": "stdout",
          "output_type": "stream",
          "text": [
            "Running batch 280...\n"
          ]
        },
        {
          "name": "stderr",
          "output_type": "stream",
          "text": [
            "Processing batches:  29%|██▉       | 29/100 [16:45<41:21, 34.94s/it]"
          ]
        },
        {
          "name": "stdout",
          "output_type": "stream",
          "text": [
            "Running batch 290...\n"
          ]
        },
        {
          "name": "stderr",
          "output_type": "stream",
          "text": [
            "Processing batches:  30%|███       | 30/100 [17:19<40:33, 34.76s/it]"
          ]
        },
        {
          "name": "stdout",
          "output_type": "stream",
          "text": [
            "Running batch 300...\n"
          ]
        },
        {
          "name": "stderr",
          "output_type": "stream",
          "text": [
            "Processing batches:  31%|███       | 31/100 [17:51<38:57, 33.88s/it]"
          ]
        },
        {
          "name": "stdout",
          "output_type": "stream",
          "text": [
            "Running batch 310...\n"
          ]
        },
        {
          "name": "stderr",
          "output_type": "stream",
          "text": [
            "Processing batches:  32%|███▏      | 32/100 [18:25<38:32, 34.01s/it]"
          ]
        },
        {
          "name": "stdout",
          "output_type": "stream",
          "text": [
            "Running batch 320...\n"
          ]
        },
        {
          "name": "stderr",
          "output_type": "stream",
          "text": [
            "Processing batches:  33%|███▎      | 33/100 [18:56<36:48, 32.96s/it]"
          ]
        },
        {
          "name": "stdout",
          "output_type": "stream",
          "text": [
            "Running batch 330...\n"
          ]
        },
        {
          "name": "stderr",
          "output_type": "stream",
          "text": [
            "Processing batches:  34%|███▍      | 34/100 [19:32<37:16, 33.88s/it]"
          ]
        },
        {
          "name": "stdout",
          "output_type": "stream",
          "text": [
            "Running batch 340...\n"
          ]
        },
        {
          "name": "stderr",
          "output_type": "stream",
          "text": [
            "Processing batches:  35%|███▌      | 35/100 [20:07<37:14, 34.38s/it]"
          ]
        },
        {
          "name": "stdout",
          "output_type": "stream",
          "text": [
            "Running batch 350...\n"
          ]
        },
        {
          "name": "stderr",
          "output_type": "stream",
          "text": [
            "Processing batches:  36%|███▌      | 36/100 [20:42<36:34, 34.29s/it]"
          ]
        },
        {
          "name": "stdout",
          "output_type": "stream",
          "text": [
            "Running batch 360...\n"
          ]
        },
        {
          "name": "stderr",
          "output_type": "stream",
          "text": [
            "Processing batches:  37%|███▋      | 37/100 [21:15<35:39, 33.95s/it]"
          ]
        },
        {
          "name": "stdout",
          "output_type": "stream",
          "text": [
            "Running batch 370...\n"
          ]
        },
        {
          "name": "stderr",
          "output_type": "stream",
          "text": [
            "Processing batches:  38%|███▊      | 38/100 [21:48<34:53, 33.77s/it]"
          ]
        },
        {
          "name": "stdout",
          "output_type": "stream",
          "text": [
            "Running batch 380...\n"
          ]
        },
        {
          "name": "stderr",
          "output_type": "stream",
          "text": [
            "Processing batches:  39%|███▉      | 39/100 [22:23<34:37, 34.06s/it]"
          ]
        },
        {
          "name": "stdout",
          "output_type": "stream",
          "text": [
            "Running batch 390...\n"
          ]
        },
        {
          "name": "stderr",
          "output_type": "stream",
          "text": [
            "Processing batches:  40%|████      | 40/100 [22:56<33:41, 33.69s/it]"
          ]
        },
        {
          "name": "stdout",
          "output_type": "stream",
          "text": [
            "Running batch 400...\n"
          ]
        },
        {
          "name": "stderr",
          "output_type": "stream",
          "text": [
            "Processing batches:  41%|████      | 41/100 [23:29<32:54, 33.46s/it]"
          ]
        },
        {
          "name": "stdout",
          "output_type": "stream",
          "text": [
            "Running batch 410...\n"
          ]
        },
        {
          "name": "stderr",
          "output_type": "stream",
          "text": [
            "Processing batches:  42%|████▏     | 42/100 [24:05<33:07, 34.27s/it]"
          ]
        },
        {
          "name": "stdout",
          "output_type": "stream",
          "text": [
            "Running batch 420...\n"
          ]
        },
        {
          "name": "stderr",
          "output_type": "stream",
          "text": [
            "Processing batches:  43%|████▎     | 43/100 [24:49<35:26, 37.30s/it]"
          ]
        },
        {
          "name": "stdout",
          "output_type": "stream",
          "text": [
            "Running batch 430...\n"
          ]
        },
        {
          "name": "stderr",
          "output_type": "stream",
          "text": [
            "Processing batches:  44%|████▍     | 44/100 [25:25<34:22, 36.82s/it]"
          ]
        },
        {
          "name": "stdout",
          "output_type": "stream",
          "text": [
            "Running batch 440...\n"
          ]
        },
        {
          "name": "stderr",
          "output_type": "stream",
          "text": [
            "Processing batches:  45%|████▌     | 45/100 [26:08<35:29, 38.72s/it]"
          ]
        },
        {
          "name": "stdout",
          "output_type": "stream",
          "text": [
            "Running batch 450...\n"
          ]
        },
        {
          "name": "stderr",
          "output_type": "stream",
          "text": [
            "Processing batches:  46%|████▌     | 46/100 [26:45<34:22, 38.19s/it]"
          ]
        },
        {
          "name": "stdout",
          "output_type": "stream",
          "text": [
            "Running batch 460...\n"
          ]
        },
        {
          "name": "stderr",
          "output_type": "stream",
          "text": [
            "Processing batches:  47%|████▋     | 47/100 [27:24<33:59, 38.48s/it]"
          ]
        },
        {
          "name": "stdout",
          "output_type": "stream",
          "text": [
            "Running batch 470...\n"
          ]
        },
        {
          "name": "stderr",
          "output_type": "stream",
          "text": [
            "Processing batches:  48%|████▊     | 48/100 [28:00<32:36, 37.62s/it]"
          ]
        },
        {
          "name": "stdout",
          "output_type": "stream",
          "text": [
            "Running batch 480...\n"
          ]
        },
        {
          "name": "stderr",
          "output_type": "stream",
          "text": [
            "Processing batches:  49%|████▉     | 49/100 [28:38<32:12, 37.89s/it]"
          ]
        },
        {
          "name": "stdout",
          "output_type": "stream",
          "text": [
            "Running batch 490...\n"
          ]
        },
        {
          "name": "stderr",
          "output_type": "stream",
          "text": [
            "Processing batches:  50%|█████     | 50/100 [29:08<29:39, 35.60s/it]"
          ]
        },
        {
          "name": "stdout",
          "output_type": "stream",
          "text": [
            "Running batch 500...\n"
          ]
        },
        {
          "name": "stderr",
          "output_type": "stream",
          "text": [
            "Processing batches:  51%|█████     | 51/100 [29:48<29:59, 36.72s/it]"
          ]
        },
        {
          "name": "stdout",
          "output_type": "stream",
          "text": [
            "Running batch 510...\n"
          ]
        },
        {
          "name": "stderr",
          "output_type": "stream",
          "text": [
            "Processing batches:  52%|█████▏    | 52/100 [30:32<31:04, 38.84s/it]"
          ]
        },
        {
          "name": "stdout",
          "output_type": "stream",
          "text": [
            "Running batch 520...\n"
          ]
        },
        {
          "name": "stderr",
          "output_type": "stream",
          "text": [
            "Processing batches:  53%|█████▎    | 53/100 [31:02<28:31, 36.42s/it]"
          ]
        },
        {
          "name": "stdout",
          "output_type": "stream",
          "text": [
            "Running batch 530...\n"
          ]
        },
        {
          "name": "stderr",
          "output_type": "stream",
          "text": [
            "Processing batches:  54%|█████▍    | 54/100 [31:41<28:31, 37.21s/it]"
          ]
        },
        {
          "name": "stdout",
          "output_type": "stream",
          "text": [
            "Running batch 540...\n"
          ]
        },
        {
          "name": "stderr",
          "output_type": "stream",
          "text": [
            "Processing batches:  55%|█████▌    | 55/100 [32:26<29:34, 39.43s/it]"
          ]
        },
        {
          "name": "stdout",
          "output_type": "stream",
          "text": [
            "Running batch 550...\n"
          ]
        },
        {
          "name": "stderr",
          "output_type": "stream",
          "text": [
            "Processing batches:  56%|█████▌    | 56/100 [32:54<26:30, 36.14s/it]"
          ]
        },
        {
          "name": "stdout",
          "output_type": "stream",
          "text": [
            "Running batch 560...\n"
          ]
        },
        {
          "name": "stderr",
          "output_type": "stream",
          "text": [
            "Processing batches:  57%|█████▋    | 57/100 [33:28<25:20, 35.35s/it]"
          ]
        },
        {
          "name": "stdout",
          "output_type": "stream",
          "text": [
            "Running batch 570...\n"
          ]
        },
        {
          "name": "stderr",
          "output_type": "stream",
          "text": [
            "Processing batches:  58%|█████▊    | 58/100 [34:00<24:04, 34.38s/it]"
          ]
        },
        {
          "name": "stdout",
          "output_type": "stream",
          "text": [
            "Running batch 580...\n"
          ]
        },
        {
          "name": "stderr",
          "output_type": "stream",
          "text": [
            "Processing batches:  59%|█████▉    | 59/100 [34:42<25:03, 36.67s/it]"
          ]
        },
        {
          "name": "stdout",
          "output_type": "stream",
          "text": [
            "Running batch 590...\n"
          ]
        },
        {
          "name": "stderr",
          "output_type": "stream",
          "text": [
            "Processing batches:  60%|██████    | 60/100 [35:20<24:37, 36.94s/it]"
          ]
        },
        {
          "name": "stdout",
          "output_type": "stream",
          "text": [
            "Running batch 600...\n"
          ]
        },
        {
          "name": "stderr",
          "output_type": "stream",
          "text": [
            "Processing batches:  61%|██████    | 61/100 [35:55<23:37, 36.34s/it]"
          ]
        },
        {
          "name": "stdout",
          "output_type": "stream",
          "text": [
            "Running batch 610...\n"
          ]
        },
        {
          "name": "stderr",
          "output_type": "stream",
          "text": [
            "Processing batches:  62%|██████▏   | 62/100 [36:35<23:47, 37.57s/it]"
          ]
        },
        {
          "name": "stdout",
          "output_type": "stream",
          "text": [
            "Running batch 620...\n"
          ]
        },
        {
          "name": "stderr",
          "output_type": "stream",
          "text": [
            "Processing batches:  63%|██████▎   | 63/100 [37:11<22:55, 37.17s/it]"
          ]
        },
        {
          "name": "stdout",
          "output_type": "stream",
          "text": [
            "Running batch 630...\n"
          ]
        },
        {
          "name": "stderr",
          "output_type": "stream",
          "text": [
            "Processing batches:  64%|██████▍   | 64/100 [37:51<22:43, 37.88s/it]"
          ]
        },
        {
          "name": "stdout",
          "output_type": "stream",
          "text": [
            "Running batch 640...\n"
          ]
        },
        {
          "name": "stderr",
          "output_type": "stream",
          "text": [
            "Processing batches:  65%|██████▌   | 65/100 [38:26<21:41, 37.18s/it]"
          ]
        },
        {
          "name": "stdout",
          "output_type": "stream",
          "text": [
            "Running batch 650...\n"
          ]
        },
        {
          "name": "stderr",
          "output_type": "stream",
          "text": [
            "Processing batches:  66%|██████▌   | 66/100 [38:59<20:13, 35.70s/it]"
          ]
        },
        {
          "name": "stdout",
          "output_type": "stream",
          "text": [
            "Running batch 660...\n"
          ]
        },
        {
          "name": "stderr",
          "output_type": "stream",
          "text": [
            "Processing batches:  67%|██████▋   | 67/100 [39:36<19:58, 36.32s/it]"
          ]
        },
        {
          "name": "stdout",
          "output_type": "stream",
          "text": [
            "Running batch 670...\n"
          ]
        },
        {
          "name": "stderr",
          "output_type": "stream",
          "text": [
            "Processing batches:  68%|██████▊   | 68/100 [40:10<19:00, 35.65s/it]"
          ]
        },
        {
          "name": "stdout",
          "output_type": "stream",
          "text": [
            "Running batch 680...\n"
          ]
        },
        {
          "name": "stderr",
          "output_type": "stream",
          "text": [
            "Processing batches:  69%|██████▉   | 69/100 [40:48<18:40, 36.16s/it]"
          ]
        },
        {
          "name": "stdout",
          "output_type": "stream",
          "text": [
            "Running batch 690...\n"
          ]
        },
        {
          "name": "stderr",
          "output_type": "stream",
          "text": [
            "Processing batches:  70%|███████   | 70/100 [41:28<18:44, 37.48s/it]"
          ]
        },
        {
          "name": "stdout",
          "output_type": "stream",
          "text": [
            "Running batch 700...\n"
          ]
        },
        {
          "name": "stderr",
          "output_type": "stream",
          "text": [
            "Processing batches:  71%|███████   | 71/100 [42:04<17:51, 36.95s/it]"
          ]
        },
        {
          "name": "stdout",
          "output_type": "stream",
          "text": [
            "Running batch 710...\n"
          ]
        },
        {
          "name": "stderr",
          "output_type": "stream",
          "text": [
            "Processing batches:  72%|███████▏  | 72/100 [42:38<16:47, 35.97s/it]"
          ]
        },
        {
          "name": "stdout",
          "output_type": "stream",
          "text": [
            "Running batch 720...\n"
          ]
        },
        {
          "name": "stderr",
          "output_type": "stream",
          "text": [
            "Processing batches:  73%|███████▎  | 73/100 [43:17<16:34, 36.82s/it]"
          ]
        },
        {
          "name": "stdout",
          "output_type": "stream",
          "text": [
            "Running batch 730...\n"
          ]
        },
        {
          "name": "stderr",
          "output_type": "stream",
          "text": [
            "Processing batches:  74%|███████▍  | 74/100 [44:02<17:07, 39.52s/it]"
          ]
        },
        {
          "name": "stdout",
          "output_type": "stream",
          "text": [
            "Running batch 740...\n"
          ]
        },
        {
          "name": "stderr",
          "output_type": "stream",
          "text": [
            "Processing batches:  75%|███████▌  | 75/100 [44:35<15:36, 37.46s/it]"
          ]
        },
        {
          "name": "stdout",
          "output_type": "stream",
          "text": [
            "Running batch 750...\n"
          ]
        },
        {
          "name": "stderr",
          "output_type": "stream",
          "text": [
            "Processing batches:  76%|███████▌  | 76/100 [45:19<15:43, 39.31s/it]"
          ]
        },
        {
          "name": "stdout",
          "output_type": "stream",
          "text": [
            "Running batch 760...\n"
          ]
        },
        {
          "name": "stderr",
          "output_type": "stream",
          "text": [
            "Processing batches:  77%|███████▋  | 77/100 [46:02<15:35, 40.66s/it]"
          ]
        },
        {
          "name": "stdout",
          "output_type": "stream",
          "text": [
            "Running batch 770...\n"
          ]
        },
        {
          "name": "stderr",
          "output_type": "stream",
          "text": [
            "Processing batches:  78%|███████▊  | 78/100 [46:35<13:58, 38.13s/it]"
          ]
        },
        {
          "name": "stdout",
          "output_type": "stream",
          "text": [
            "Running batch 780...\n"
          ]
        },
        {
          "name": "stderr",
          "output_type": "stream",
          "text": [
            "Processing batches:  79%|███████▉  | 79/100 [47:09<12:59, 37.11s/it]"
          ]
        },
        {
          "name": "stdout",
          "output_type": "stream",
          "text": [
            "Running batch 790...\n"
          ]
        },
        {
          "name": "stderr",
          "output_type": "stream",
          "text": [
            "Processing batches:  80%|████████  | 80/100 [47:48<12:32, 37.62s/it]"
          ]
        },
        {
          "name": "stdout",
          "output_type": "stream",
          "text": [
            "Running batch 800...\n"
          ]
        },
        {
          "name": "stderr",
          "output_type": "stream",
          "text": [
            "Processing batches:  81%|████████  | 81/100 [48:28<12:09, 38.40s/it]"
          ]
        },
        {
          "name": "stdout",
          "output_type": "stream",
          "text": [
            "Running batch 810...\n"
          ]
        },
        {
          "name": "stderr",
          "output_type": "stream",
          "text": [
            "Processing batches:  82%|████████▏ | 82/100 [48:58<10:44, 35.79s/it]"
          ]
        },
        {
          "name": "stdout",
          "output_type": "stream",
          "text": [
            "Running batch 820...\n"
          ]
        },
        {
          "name": "stderr",
          "output_type": "stream",
          "text": [
            "Processing batches:  83%|████████▎ | 83/100 [49:40<10:36, 37.46s/it]"
          ]
        },
        {
          "name": "stdout",
          "output_type": "stream",
          "text": [
            "Running batch 830...\n"
          ]
        },
        {
          "name": "stderr",
          "output_type": "stream",
          "text": [
            "Processing batches:  84%|████████▍ | 84/100 [50:17<10:01, 37.60s/it]"
          ]
        },
        {
          "name": "stdout",
          "output_type": "stream",
          "text": [
            "Running batch 840...\n"
          ]
        },
        {
          "name": "stderr",
          "output_type": "stream",
          "text": [
            "Processing batches:  85%|████████▌ | 85/100 [50:58<09:35, 38.35s/it]"
          ]
        },
        {
          "name": "stdout",
          "output_type": "stream",
          "text": [
            "Running batch 850...\n"
          ]
        },
        {
          "name": "stderr",
          "output_type": "stream",
          "text": [
            "Processing batches:  86%|████████▌ | 86/100 [51:42<09:20, 40.05s/it]"
          ]
        },
        {
          "name": "stdout",
          "output_type": "stream",
          "text": [
            "Running batch 860...\n"
          ]
        },
        {
          "name": "stderr",
          "output_type": "stream",
          "text": [
            "Processing batches:  87%|████████▋ | 87/100 [52:19<08:28, 39.12s/it]"
          ]
        },
        {
          "name": "stdout",
          "output_type": "stream",
          "text": [
            "Running batch 870...\n"
          ]
        },
        {
          "name": "stderr",
          "output_type": "stream",
          "text": [
            "Processing batches:  88%|████████▊ | 88/100 [52:48<07:13, 36.16s/it]"
          ]
        },
        {
          "name": "stdout",
          "output_type": "stream",
          "text": [
            "Running batch 880...\n"
          ]
        },
        {
          "name": "stderr",
          "output_type": "stream",
          "text": [
            "Processing batches:  89%|████████▉ | 89/100 [53:32<07:03, 38.52s/it]"
          ]
        },
        {
          "name": "stdout",
          "output_type": "stream",
          "text": [
            "Running batch 890...\n"
          ]
        },
        {
          "name": "stderr",
          "output_type": "stream",
          "text": [
            "Processing batches:  90%|█████████ | 90/100 [54:11<06:26, 38.67s/it]"
          ]
        },
        {
          "name": "stdout",
          "output_type": "stream",
          "text": [
            "Running batch 900...\n"
          ]
        },
        {
          "name": "stderr",
          "output_type": "stream",
          "text": [
            "Processing batches:  91%|█████████ | 91/100 [54:46<05:39, 37.69s/it]"
          ]
        },
        {
          "name": "stdout",
          "output_type": "stream",
          "text": [
            "Running batch 910...\n"
          ]
        },
        {
          "name": "stderr",
          "output_type": "stream",
          "text": [
            "Processing batches:  92%|█████████▏| 92/100 [55:20<04:52, 36.52s/it]"
          ]
        },
        {
          "name": "stdout",
          "output_type": "stream",
          "text": [
            "Running batch 920...\n"
          ]
        },
        {
          "name": "stderr",
          "output_type": "stream",
          "text": [
            "Processing batches:  93%|█████████▎| 93/100 [55:59<04:19, 37.13s/it]"
          ]
        },
        {
          "name": "stdout",
          "output_type": "stream",
          "text": [
            "Running batch 930...\n"
          ]
        },
        {
          "name": "stderr",
          "output_type": "stream",
          "text": [
            "Processing batches:  94%|█████████▍| 94/100 [56:37<03:44, 37.46s/it]"
          ]
        },
        {
          "name": "stdout",
          "output_type": "stream",
          "text": [
            "Running batch 940...\n"
          ]
        },
        {
          "name": "stderr",
          "output_type": "stream",
          "text": [
            "Processing batches:  95%|█████████▌| 95/100 [57:13<03:06, 37.20s/it]"
          ]
        },
        {
          "name": "stdout",
          "output_type": "stream",
          "text": [
            "Running batch 950...\n"
          ]
        },
        {
          "name": "stderr",
          "output_type": "stream",
          "text": [
            "Processing batches:  96%|█████████▌| 96/100 [57:58<02:38, 39.53s/it]"
          ]
        },
        {
          "name": "stdout",
          "output_type": "stream",
          "text": [
            "Running batch 960...\n"
          ]
        },
        {
          "name": "stderr",
          "output_type": "stream",
          "text": [
            "Processing batches:  97%|█████████▋| 97/100 [58:44<02:03, 41.25s/it]"
          ]
        },
        {
          "name": "stdout",
          "output_type": "stream",
          "text": [
            "Running batch 970...\n"
          ]
        },
        {
          "name": "stderr",
          "output_type": "stream",
          "text": [
            "Processing batches:  98%|█████████▊| 98/100 [59:20<01:19, 39.65s/it]"
          ]
        },
        {
          "name": "stdout",
          "output_type": "stream",
          "text": [
            "Running batch 980...\n"
          ]
        },
        {
          "name": "stderr",
          "output_type": "stream",
          "text": [
            "Processing batches:  99%|█████████▉| 99/100 [1:00:01<00:40, 40.27s/it]"
          ]
        },
        {
          "name": "stdout",
          "output_type": "stream",
          "text": [
            "Running batch 990...\n"
          ]
        },
        {
          "name": "stderr",
          "output_type": "stream",
          "text": [
            "Processing batches: 100%|██████████| 100/100 [1:00:36<00:00, 36.37s/it]\n"
          ]
        }
      ],
      "source": [
        "results = []\n",
        "few_shot_examples = random.sample(list(data), 5)\n",
        "batch_size = 10\n",
        "\n",
        "\n",
        "for i in tqdm(range(0, len(data), batch_size), desc=\"Processing batches\"):\n",
        "    batch = data.select(range(i, i+batch_size)).to_dict()\n",
        "    sentences = batch['sentence']\n",
        "    gold_fols = batch['fol_translation']\n",
        "\n",
        "    prompts1 = [\n",
        "        [\n",
        "            {\"role\": \"system\", \"content\": instruction_prompt},\n",
        "            {\"role\": \"user\", \"content\": f\"Translate this sentence into first-order logic:\\n\\\"{s}\\\"\"}\n",
        "        ] for s in sentences\n",
        "    ]\n",
        "\n",
        "    prompts2 = [\n",
        "        [\n",
        "            {\"role\": \"system\", \"content\": instruction_prompt},\n",
        "            {\"role\": \"user\", \"content\": build_few_shot_prompt(s, few_shot_examples)}\n",
        "        ] for s in sentences\n",
        "    ]\n",
        "    \n",
        "    print(f\"Running batch {i}...\")\n",
        "    try:\n",
        "        outputs1 = pipe(prompts1, max_new_tokens=128, do_sample=False)\n",
        "        outputs2 = pipe(prompts2, max_new_tokens=128, do_sample=False)\n",
        "    except Exception as e:\n",
        "        outputs1 = outputs2 = [{\"generated_text\": f\"Error: {e}\"}] * len(batch)\n",
        "\n",
        "    for j in range(len(batch)):\n",
        "        out1 = extract_generated_text(outputs1[j])\n",
        "        out2 = extract_generated_text(outputs2[j])\n",
        "        cos_sim1 = cosine_similarity_score(out1, gold_fols[j])\n",
        "        cos_sim2 = cosine_similarity_score(out2, gold_fols[j])\n",
        "        z3_match1 = z3_equivalent(out1, gold_fols[j])\n",
        "        z3_match2 = z3_equivalent(out2, gold_fols[j])\n",
        "\n",
        "        results.append({\n",
        "            \"sentence\": sentences[j],\n",
        "            \"gold_fol\": gold_fols[j],\n",
        "            \"instruction_output\": out1,\n",
        "            \"fewshot_output\": out2,\n",
        "            \"cos_sim_instruction\": cos_sim1,\n",
        "            \"cos_sim_fewshot\": cos_sim2,\n",
        "            \"z3_instruction_match\": z3_match1,\n",
        "            \"z3_fewshot_match\": z3_match2\n",
        "        })"
      ]
    },
    {
      "cell_type": "code",
      "execution_count": 31,
      "metadata": {
        "id": "VmffZn1LlQVM"
      },
      "outputs": [],
      "source": [
        "# Convert to DataFrame\n",
        "df = pd.DataFrame(results)\n",
        "df.to_csv(\"llm_text2log_outputs.csv\", index=False)"
      ]
    },
    {
      "cell_type": "markdown",
      "metadata": {},
      "source": [
        "### Evaluation"
      ]
    },
    {
      "cell_type": "code",
      "execution_count": 2,
      "metadata": {},
      "outputs": [],
      "source": [
        "data_df=pd.read_csv(\"/home/jingtao/Course Code/llm_text2log_outputs.csv\")"
      ]
    },
    {
      "cell_type": "code",
      "execution_count": 3,
      "metadata": {},
      "outputs": [
        {
          "data": {
            "text/html": [
              "<div>\n",
              "<style scoped>\n",
              "    .dataframe tbody tr th:only-of-type {\n",
              "        vertical-align: middle;\n",
              "    }\n",
              "\n",
              "    .dataframe tbody tr th {\n",
              "        vertical-align: top;\n",
              "    }\n",
              "\n",
              "    .dataframe thead th {\n",
              "        text-align: right;\n",
              "    }\n",
              "</style>\n",
              "<table border=\"1\" class=\"dataframe\">\n",
              "  <thead>\n",
              "    <tr style=\"text-align: right;\">\n",
              "      <th></th>\n",
              "      <th>sentence</th>\n",
              "      <th>gold_fol</th>\n",
              "      <th>instruction_output</th>\n",
              "      <th>fewshot_output</th>\n",
              "      <th>cos_sim_instruction</th>\n",
              "      <th>cos_sim_fewshot</th>\n",
              "      <th>z3_instruction_match</th>\n",
              "      <th>z3_fewshot_match</th>\n",
              "    </tr>\n",
              "  </thead>\n",
              "  <tbody>\n",
              "    <tr>\n",
              "      <th>0</th>\n",
              "      <td>Some engineers were astronauts.</td>\n",
              "      <td>exists x1.(_engineer(x1) &amp; exists x2.(_astrona...</td>\n",
              "      <td>[{'role': 'system', 'content': '\\nYou are a pr...</td>\n",
              "      <td>[{'role': 'system', 'content': '\\nYou are a pr...</td>\n",
              "      <td>0.000000</td>\n",
              "      <td>0.757567</td>\n",
              "      <td>False</td>\n",
              "      <td>False</td>\n",
              "    </tr>\n",
              "    <tr>\n",
              "      <th>1</th>\n",
              "      <td>Some items were facts.</td>\n",
              "      <td>exists x1.(_item(x1) &amp; exists x2.(_fact(x2) &amp; ...</td>\n",
              "      <td>[{'role': 'system', 'content': '\\nYou are a pr...</td>\n",
              "      <td>[{'role': 'system', 'content': '\\nYou are a pr...</td>\n",
              "      <td>0.000000</td>\n",
              "      <td>0.757567</td>\n",
              "      <td>False</td>\n",
              "      <td>False</td>\n",
              "    </tr>\n",
              "    <tr>\n",
              "      <th>2</th>\n",
              "      <td>Some owners were gentlemen.</td>\n",
              "      <td>exists x1.(_owner(x1) &amp; exists x2.(_gentleman(...</td>\n",
              "      <td>[{'role': 'system', 'content': '\\nYou are a pr...</td>\n",
              "      <td>[{'role': 'system', 'content': '\\nYou are a pr...</td>\n",
              "      <td>0.028637</td>\n",
              "      <td>0.757567</td>\n",
              "      <td>False</td>\n",
              "      <td>False</td>\n",
              "    </tr>\n",
              "    <tr>\n",
              "      <th>3</th>\n",
              "      <td>Some people are fans.</td>\n",
              "      <td>exists x1.(_people(x1) &amp; exists x2.(_fan(x2) &amp;...</td>\n",
              "      <td>[{'role': 'system', 'content': '\\nYou are a pr...</td>\n",
              "      <td>[{'role': 'system', 'content': '\\nYou are a pr...</td>\n",
              "      <td>0.000000</td>\n",
              "      <td>0.723777</td>\n",
              "      <td>False</td>\n",
              "      <td>False</td>\n",
              "    </tr>\n",
              "    <tr>\n",
              "      <th>4</th>\n",
              "      <td>Some members are centres.</td>\n",
              "      <td>exists x1.(_member(x1) &amp; exists x2.(_centre(x2...</td>\n",
              "      <td>[{'role': 'system', 'content': '\\nYou are a pr...</td>\n",
              "      <td>[{'role': 'system', 'content': '\\nYou are a pr...</td>\n",
              "      <td>0.000000</td>\n",
              "      <td>0.744157</td>\n",
              "      <td>False</td>\n",
              "      <td>False</td>\n",
              "    </tr>\n",
              "  </tbody>\n",
              "</table>\n",
              "</div>"
            ],
            "text/plain": [
              "                          sentence  \\\n",
              "0  Some engineers were astronauts.   \n",
              "1           Some items were facts.   \n",
              "2      Some owners were gentlemen.   \n",
              "3            Some people are fans.   \n",
              "4        Some members are centres.   \n",
              "\n",
              "                                            gold_fol  \\\n",
              "0  exists x1.(_engineer(x1) & exists x2.(_astrona...   \n",
              "1  exists x1.(_item(x1) & exists x2.(_fact(x2) & ...   \n",
              "2  exists x1.(_owner(x1) & exists x2.(_gentleman(...   \n",
              "3  exists x1.(_people(x1) & exists x2.(_fan(x2) &...   \n",
              "4  exists x1.(_member(x1) & exists x2.(_centre(x2...   \n",
              "\n",
              "                                  instruction_output  \\\n",
              "0  [{'role': 'system', 'content': '\\nYou are a pr...   \n",
              "1  [{'role': 'system', 'content': '\\nYou are a pr...   \n",
              "2  [{'role': 'system', 'content': '\\nYou are a pr...   \n",
              "3  [{'role': 'system', 'content': '\\nYou are a pr...   \n",
              "4  [{'role': 'system', 'content': '\\nYou are a pr...   \n",
              "\n",
              "                                      fewshot_output  cos_sim_instruction  \\\n",
              "0  [{'role': 'system', 'content': '\\nYou are a pr...             0.000000   \n",
              "1  [{'role': 'system', 'content': '\\nYou are a pr...             0.000000   \n",
              "2  [{'role': 'system', 'content': '\\nYou are a pr...             0.028637   \n",
              "3  [{'role': 'system', 'content': '\\nYou are a pr...             0.000000   \n",
              "4  [{'role': 'system', 'content': '\\nYou are a pr...             0.000000   \n",
              "\n",
              "   cos_sim_fewshot  z3_instruction_match  z3_fewshot_match  \n",
              "0         0.757567                 False             False  \n",
              "1         0.757567                 False             False  \n",
              "2         0.757567                 False             False  \n",
              "3         0.723777                 False             False  \n",
              "4         0.744157                 False             False  "
            ]
          },
          "execution_count": 3,
          "metadata": {},
          "output_type": "execute_result"
        }
      ],
      "source": [
        "data_df.head()"
      ]
    },
    {
      "cell_type": "code",
      "execution_count": null,
      "metadata": {},
      "outputs": [],
      "source": [
        "\n",
        "def extract_fol_from_assistant_block(raw_text):\n",
        "    try:\n",
        "        \n",
        "        blocks = ast.literal_eval(raw_text)\n",
        "\n",
        "        \n",
        "        for block in blocks:\n",
        "            if isinstance(block, dict) and block.get('role') == 'assistant':\n",
        "                content = block.get('content', '')\n",
        "                match = re.search(r'FOL:\\s*(.+)', content)\n",
        "                if match:\n",
        "                    return match.group(1).strip()\n",
        "                else:\n",
        "                    return content.strip()  \n",
        "    except Exception as e:\n",
        "        return f\"[parse error] {e}\"\n",
        "    \n",
        "    \n",
        "def extract_last_line_from_assistant(raw_text):\n",
        "    try:\n",
        "        blocks = ast.literal_eval(raw_text)\n",
        "        for block in blocks:\n",
        "            if isinstance(block, dict) and block.get(\"role\") == \"assistant\":\n",
        "                content = block.get(\"content\", \"\")\n",
        "                lines = [line.strip() for line in content.splitlines() if line.strip()]\n",
        "                if lines:\n",
        "                    return lines[-1]\n",
        "                return content.strip()\n",
        "    except Exception as e:\n",
        "        return f\"[parse error] {e}\""
      ]
    },
    {
      "cell_type": "markdown",
      "metadata": {},
      "source": [
        "### Example"
      ]
    },
    {
      "cell_type": "code",
      "execution_count": 28,
      "metadata": {},
      "outputs": [
        {
          "data": {
            "text/plain": [
              "\"[{'role': 'system', 'content': '\\\\nYou are a predicate logic assistant specializing in translating natural language into first-order logic (FOL).\\\\nRespond only with a valid FOL expression that is logically equivalent to the given sentence.\\\\n'}, {'role': 'user', 'content': 'Sentence: Some sets are sets.\\\\nFOL: exists x1.(_set(x1) & exists x2.(_set(x2) & (x1 = x2)))\\\\nSentence: Some cats are animals.\\\\nFOL: exists x1.(_cat(x1) & exists x2.(_animal(x2) & (x1 = x2)))\\\\nSentence: Some bends are characters.\\\\nFOL: exists x1.(_bend(x1) & exists x2.(_character(x2) & (x1 = x2)))\\\\nSentence: Some materials are mixtures.\\\\nFOL: exists x1.(_material(x1) & exists x2.(_mixture(x2) & (x1 = x2)))\\\\nSentence: Some individuals are kids.\\\\nFOL: exists x1.(_individual(x1) & exists x2.(_kid(x2) & (x1 = x2)))\\\\n\\\\nSentence: Some engineers were astronauts.\\\\nFOL:'}, {'role': 'assistant', 'content': 'Sentence: Some engineers were astronauts.\\\\nFOL: exists x1.(_engineer(x1) & exists x2.(_astronaut(x2) & (x1 = x2)))'}]\""
            ]
          },
          "execution_count": 28,
          "metadata": {},
          "output_type": "execute_result"
        }
      ],
      "source": [
        "data_df[\"fewshot_output\"].iloc[0]"
      ]
    },
    {
      "cell_type": "code",
      "execution_count": 15,
      "metadata": {},
      "outputs": [
        {
          "data": {
            "text/plain": [
              "'exists x1.(_engineer(x1) & exists x2.(_astronaut(x2) & (x1 = x2)))'"
            ]
          },
          "execution_count": 15,
          "metadata": {},
          "output_type": "execute_result"
        }
      ],
      "source": [
        "extract_fol_from_assistant_block(data_df[\"fewshot_output\"].iloc[0])\n"
      ]
    },
    {
      "cell_type": "code",
      "execution_count": 29,
      "metadata": {},
      "outputs": [
        {
          "data": {
            "text/plain": [
              "'[{\\'role\\': \\'system\\', \\'content\\': \\'\\\\nYou are a predicate logic assistant specializing in translating natural language into first-order logic (FOL).\\\\nRespond only with a valid FOL expression that is logically equivalent to the given sentence.\\\\n\\'}, {\\'role\\': \\'user\\', \\'content\\': \\'Translate this sentence into first-order logic:\\\\n\"Some engineers were astronauts.\"\\'}, {\\'role\\': \\'assistant\\', \\'content\\': \\'The translation of the sentence \"Some engineers were astronauts\" into first-order logic is:\\\\n\\\\n∃x (E(x) ∧ A(x))\\'}]'"
            ]
          },
          "execution_count": 29,
          "metadata": {},
          "output_type": "execute_result"
        }
      ],
      "source": [
        "data_df[\"instruction_output\"].iloc[0]"
      ]
    },
    {
      "cell_type": "code",
      "execution_count": 27,
      "metadata": {},
      "outputs": [
        {
          "data": {
            "text/plain": [
              "'∃x (E(x) ∧ A(x))'"
            ]
          },
          "execution_count": 27,
          "metadata": {},
          "output_type": "execute_result"
        }
      ],
      "source": [
        "# extract_fol_from_assistant_block(data_df[\"instruction_output\"].iloc[0])\n",
        "extract_last_line_from_assistant(data_df[\"instruction_output\"].iloc[0])"
      ]
    },
    {
      "cell_type": "code",
      "execution_count": 31,
      "metadata": {},
      "outputs": [],
      "source": [
        "# Extract final expressions\n",
        "data_df[\"I_output\"] = data_df[\"instruction_output\"].apply(extract_last_line_from_assistant)\n",
        "data_df[\"F_output\"] = data_df[\"fewshot_output\"].apply(extract_fol_from_assistant_block)\n"
      ]
    },
    {
      "cell_type": "code",
      "execution_count": 98,
      "metadata": {},
      "outputs": [],
      "source": [
        "# Recalculate cosine similarities\n",
        "data_df[\"cos_sim_instruction\"] = data_df.apply(lambda row: cosine_similarity_score(row[\"I_output\"], row[\"gold_fol\"]), axis=1)\n",
        "data_df[\"cos_sim_fewshot\"] = data_df.apply(lambda row: cosine_similarity_score(row[\"F_output\"], row[\"gold_fol\"]), axis=1)\n",
        "data_df[\"z3_instruction_match\"] = data_df.apply(lambda row: z3_equivalent(row[\"I_output\"], row[\"gold_fol\"]), axis=1)\n",
        "data_df[\"z3_fewshot_match\"] = data_df.apply(lambda row: z3_equivalent(row[\"F_output\"], row[\"gold_fol\"]), axis=1)"
      ]
    },
    {
      "cell_type": "code",
      "execution_count": 50,
      "metadata": {},
      "outputs": [
        {
          "data": {
            "text/plain": [
              "('exists x1.(_engineer(x1) & exists x2.(_astronaut(x2) & (x1 = x2)))',\n",
              " 'exists x1.(_engineer(x1) & exists x2.(_astronaut(x2) & (x1 = x2)))')"
            ]
          },
          "execution_count": 50,
          "metadata": {},
          "output_type": "execute_result"
        }
      ],
      "source": [
        "data_df[\"F_output\"][0],data_df[\"gold_fol\"][0]"
      ]
    },
    {
      "cell_type": "code",
      "execution_count": 100,
      "metadata": {},
      "outputs": [
        {
          "data": {
            "text/html": [
              "<div>\n",
              "<style scoped>\n",
              "    .dataframe tbody tr th:only-of-type {\n",
              "        vertical-align: middle;\n",
              "    }\n",
              "\n",
              "    .dataframe tbody tr th {\n",
              "        vertical-align: top;\n",
              "    }\n",
              "\n",
              "    .dataframe thead th {\n",
              "        text-align: right;\n",
              "    }\n",
              "</style>\n",
              "<table border=\"1\" class=\"dataframe\">\n",
              "  <thead>\n",
              "    <tr style=\"text-align: right;\">\n",
              "      <th></th>\n",
              "      <th>sentence</th>\n",
              "      <th>gold_fol</th>\n",
              "      <th>instruction_output</th>\n",
              "      <th>fewshot_output</th>\n",
              "      <th>cos_sim_instruction</th>\n",
              "      <th>cos_sim_fewshot</th>\n",
              "      <th>z3_instruction_match</th>\n",
              "      <th>z3_fewshot_match</th>\n",
              "      <th>I_output</th>\n",
              "      <th>F_output</th>\n",
              "    </tr>\n",
              "  </thead>\n",
              "  <tbody>\n",
              "    <tr>\n",
              "      <th>0</th>\n",
              "      <td>Some engineers were astronauts.</td>\n",
              "      <td>exists x1.(_engineer(x1) &amp; exists x2.(_astrona...</td>\n",
              "      <td>[{'role': 'system', 'content': '\\nYou are a pr...</td>\n",
              "      <td>[{'role': 'system', 'content': '\\nYou are a pr...</td>\n",
              "      <td>0.00000</td>\n",
              "      <td>1.000000</td>\n",
              "      <td>False</td>\n",
              "      <td>True</td>\n",
              "      <td>∃x (E(x) ∧ A(x))</td>\n",
              "      <td>exists x1.(_engineer(x1) &amp; exists x2.(_astrona...</td>\n",
              "    </tr>\n",
              "    <tr>\n",
              "      <th>1</th>\n",
              "      <td>Some items were facts.</td>\n",
              "      <td>exists x1.(_item(x1) &amp; exists x2.(_fact(x2) &amp; ...</td>\n",
              "      <td>[{'role': 'system', 'content': '\\nYou are a pr...</td>\n",
              "      <td>[{'role': 'system', 'content': '\\nYou are a pr...</td>\n",
              "      <td>0.00000</td>\n",
              "      <td>1.000000</td>\n",
              "      <td>False</td>\n",
              "      <td>True</td>\n",
              "      <td>∃x (F(x) ∧ W(x))</td>\n",
              "      <td>exists x1.(_item(x1) &amp; exists x2.(_fact(x2) &amp; ...</td>\n",
              "    </tr>\n",
              "    <tr>\n",
              "      <th>2</th>\n",
              "      <td>Some owners were gentlemen.</td>\n",
              "      <td>exists x1.(_owner(x1) &amp; exists x2.(_gentleman(...</td>\n",
              "      <td>[{'role': 'system', 'content': '\\nYou are a pr...</td>\n",
              "      <td>[{'role': 'system', 'content': '\\nYou are a pr...</td>\n",
              "      <td>0.05015</td>\n",
              "      <td>1.000000</td>\n",
              "      <td>False</td>\n",
              "      <td>True</td>\n",
              "      <td>This expression states that there exists at le...</td>\n",
              "      <td>exists x1.(_owner(x1) &amp; exists x2.(_gentleman(...</td>\n",
              "    </tr>\n",
              "    <tr>\n",
              "      <th>3</th>\n",
              "      <td>Some people are fans.</td>\n",
              "      <td>exists x1.(_people(x1) &amp; exists x2.(_fan(x2) &amp;...</td>\n",
              "      <td>[{'role': 'system', 'content': '\\nYou are a pr...</td>\n",
              "      <td>[{'role': 'system', 'content': '\\nYou are a pr...</td>\n",
              "      <td>0.00000</td>\n",
              "      <td>0.920909</td>\n",
              "      <td>False</td>\n",
              "      <td>False</td>\n",
              "      <td>∃x (F(x) ∧ P(x))</td>\n",
              "      <td>exists x1.(_person(x1) &amp; exists x2.(_fan(x2) &amp;...</td>\n",
              "    </tr>\n",
              "    <tr>\n",
              "      <th>4</th>\n",
              "      <td>Some members are centres.</td>\n",
              "      <td>exists x1.(_member(x1) &amp; exists x2.(_centre(x2...</td>\n",
              "      <td>[{'role': 'system', 'content': '\\nYou are a pr...</td>\n",
              "      <td>[{'role': 'system', 'content': '\\nYou are a pr...</td>\n",
              "      <td>0.00000</td>\n",
              "      <td>1.000000</td>\n",
              "      <td>False</td>\n",
              "      <td>True</td>\n",
              "      <td>∃x (M(x) ∧ C(x))</td>\n",
              "      <td>exists x1.(_member(x1) &amp; exists x2.(_centre(x2...</td>\n",
              "    </tr>\n",
              "  </tbody>\n",
              "</table>\n",
              "</div>"
            ],
            "text/plain": [
              "                          sentence  \\\n",
              "0  Some engineers were astronauts.   \n",
              "1           Some items were facts.   \n",
              "2      Some owners were gentlemen.   \n",
              "3            Some people are fans.   \n",
              "4        Some members are centres.   \n",
              "\n",
              "                                            gold_fol  \\\n",
              "0  exists x1.(_engineer(x1) & exists x2.(_astrona...   \n",
              "1  exists x1.(_item(x1) & exists x2.(_fact(x2) & ...   \n",
              "2  exists x1.(_owner(x1) & exists x2.(_gentleman(...   \n",
              "3  exists x1.(_people(x1) & exists x2.(_fan(x2) &...   \n",
              "4  exists x1.(_member(x1) & exists x2.(_centre(x2...   \n",
              "\n",
              "                                  instruction_output  \\\n",
              "0  [{'role': 'system', 'content': '\\nYou are a pr...   \n",
              "1  [{'role': 'system', 'content': '\\nYou are a pr...   \n",
              "2  [{'role': 'system', 'content': '\\nYou are a pr...   \n",
              "3  [{'role': 'system', 'content': '\\nYou are a pr...   \n",
              "4  [{'role': 'system', 'content': '\\nYou are a pr...   \n",
              "\n",
              "                                      fewshot_output  cos_sim_instruction  \\\n",
              "0  [{'role': 'system', 'content': '\\nYou are a pr...              0.00000   \n",
              "1  [{'role': 'system', 'content': '\\nYou are a pr...              0.00000   \n",
              "2  [{'role': 'system', 'content': '\\nYou are a pr...              0.05015   \n",
              "3  [{'role': 'system', 'content': '\\nYou are a pr...              0.00000   \n",
              "4  [{'role': 'system', 'content': '\\nYou are a pr...              0.00000   \n",
              "\n",
              "   cos_sim_fewshot  z3_instruction_match  z3_fewshot_match  \\\n",
              "0         1.000000                 False              True   \n",
              "1         1.000000                 False              True   \n",
              "2         1.000000                 False              True   \n",
              "3         0.920909                 False             False   \n",
              "4         1.000000                 False              True   \n",
              "\n",
              "                                            I_output  \\\n",
              "0                                   ∃x (E(x) ∧ A(x))   \n",
              "1                                   ∃x (F(x) ∧ W(x))   \n",
              "2  This expression states that there exists at le...   \n",
              "3                                   ∃x (F(x) ∧ P(x))   \n",
              "4                                   ∃x (M(x) ∧ C(x))   \n",
              "\n",
              "                                            F_output  \n",
              "0  exists x1.(_engineer(x1) & exists x2.(_astrona...  \n",
              "1  exists x1.(_item(x1) & exists x2.(_fact(x2) & ...  \n",
              "2  exists x1.(_owner(x1) & exists x2.(_gentleman(...  \n",
              "3  exists x1.(_person(x1) & exists x2.(_fan(x2) &...  \n",
              "4  exists x1.(_member(x1) & exists x2.(_centre(x2...  "
            ]
          },
          "execution_count": 100,
          "metadata": {},
          "output_type": "execute_result"
        }
      ],
      "source": [
        "data_df.head()"
      ]
    },
    {
      "cell_type": "code",
      "execution_count": 101,
      "metadata": {},
      "outputs": [],
      "source": [
        "data_df.to_csv(\"llm_text2log_outputs.csv\", index=False)"
      ]
    },
    {
      "cell_type": "code",
      "execution_count": 102,
      "metadata": {
        "id": "3GTmaO34lVDa"
      },
      "outputs": [
        {
          "data": {
            "image/png": "[encoded data removed]",
            "text/plain": [
              "<Figure size 1000x500 with 1 Axes>"
            ]
          },
          "metadata": {},
          "output_type": "display_data"
        }
      ],
      "source": [
        "# Cosine Similarity Scores\n",
        "cos_sim_instruction = data_df[\"cos_sim_instruction\"]\n",
        "cos_sim_fewshot = data_df[\"cos_sim_fewshot\"]\n",
        "\n",
        "# Plot cosine similarity scores as curves\n",
        "plt.figure(figsize=(10, 5))\n",
        "plt.plot(cos_sim_instruction, label=\"Instruction Cosine Similarity\", alpha=0.7)\n",
        "plt.plot(cos_sim_fewshot, label=\"Few-Shot Cosine Similarity\", alpha=0.7)\n",
        "plt.axhline(y=cos_sim_instruction.mean(), color='blue', linestyle='--', label='Instruction Mean')\n",
        "plt.axhline(y=cos_sim_fewshot.mean(), color='orange', linestyle='--', label='Few-Shot Mean')\n",
        "plt.title(\"Cosine Similarity Scores\")\n",
        "plt.xlabel(\"Sample Index\")\n",
        "plt.ylabel(\"Cosine Similarity\")\n",
        "plt.legend()\n",
        "plt.grid(True)\n",
        "plt.tight_layout()\n",
        "plt.show()\n"
      ]
    },
    {
      "cell_type": "code",
      "execution_count": 108,
      "metadata": {
        "id": "aJtzYp4clZi9"
      },
      "outputs": [
        {
          "name": "stdout",
          "output_type": "stream",
          "text": [
            "Correct ratio under the instruction method: 0.0\n",
            "\n",
            " Correct ratio under the fewshot method: 0.605\n"
          ]
        },
        {
          "data": {
            "image/png": "[encoded data removed]",
            "text/plain": [
              "<Figure size 600x500 with 1 Axes>"
            ]
          },
          "metadata": {},
          "output_type": "display_data"
        }
      ],
      "source": [
        "# Z3 True/False Frequency Bar Chart\n",
        "z3_instruction = data_df[\"z3_instruction_match\"]\n",
        "z3_fewshot = data_df[\"z3_fewshot_match\"]\n",
        "# Compute Z3 match proportions\n",
        "instruction_true = sum(data_df[\"z3_instruction_match\"] == True)\n",
        "instruction_total = data_df[\"z3_instruction_match\"].notna().sum()\n",
        "fewshot_true = sum(data_df[\"z3_fewshot_match\"] == True)\n",
        "fewshot_total = data_df[\"z3_fewshot_match\"].notna().sum()\n",
        "\n",
        "# Proportions\n",
        "instruction_ratio = instruction_true / instruction_total\n",
        "fewshot_ratio = fewshot_true / fewshot_total\n",
        "\n",
        "print(\"Correct ratio under the instruction method:\",instruction_ratio)\n",
        "print(\"\\n Correct ratio under the fewshot method:\",fewshot_ratio)\n",
        "\n",
        "\n",
        "plt.figure(figsize=(6, 5))\n",
        "z3_counts = {\n",
        "    \"Instruction True\": sum(z3_instruction == True),\n",
        "    \"Instruction False\": sum(z3_instruction == False),\n",
        "    \"Few-Shot True\": sum(z3_fewshot == True),\n",
        "    \"Few-Shot False\": sum(z3_fewshot == False)\n",
        "}\n",
        "plt.bar(z3_counts.keys(), z3_counts.values(), color=['steelblue', 'lightcoral', 'seagreen', 'salmon'])\n",
        "plt.title(\"Z3 Evaluation Results\")\n",
        "plt.ylabel(\"Count\")\n",
        "plt.xticks(rotation=45)\n",
        "plt.grid(axis='y')\n",
        "plt.tight_layout()\n",
        "plt.show()"
      ]
    }
  ],
  "metadata": {
    "colab": {
      "private_outputs": true,
      "provenance": []
    },
    "kernelspec": {
      "display_name": ".venv",
      "language": "python",
      "name": "python3"
    },
    "language_info": {
      "codemirror_mode": {
        "name": "ipython",
        "version": 3
      },
      "file_extension": ".py",
      "mimetype": "text/x-python",
      "name": "python",
      "nbconvert_exporter": "python",
      "pygments_lexer": "ipython3",
      "version": "3.8.10"
    }
  },
  "nbformat": 4,
  "nbformat_minor": 0
}

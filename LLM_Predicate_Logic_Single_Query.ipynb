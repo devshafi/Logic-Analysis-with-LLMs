{
 "cells": [
  {
   "cell_type": "code",
   "execution_count": 120,
   "id": "b85adadd",
   "metadata": {},
   "outputs": [],
   "source": [
    "\n",
    "from transformers import AutoModelForCausalLM, AutoTokenizer, pipelines\n",
    "from accelerate import init_empty_weights\n",
    "import torch"
   ]
  },
  {
   "cell_type": "code",
   "execution_count": 122,
   "id": "c46f76bf",
   "metadata": {},
   "outputs": [],
   "source": [
    "import pandas as pd\n",
    "dataset_path = \"/home/fozle/Course Work/Y1S2/CISC 844/Projects/LLM-Predicate-Logic/dataset/data.csv\"\n",
    "df = pd.read_csv(dataset_path)"
   ]
  },
  {
   "cell_type": "code",
   "execution_count": 123,
   "id": "86774270",
   "metadata": {},
   "outputs": [],
   "source": [
    "sample_size = 100  # Adjust based on how many examples you want to test\n",
    "df_sample = df.sample(sample_size, random_state=42)"
   ]
  },
  {
   "cell_type": "code",
   "execution_count": 125,
   "id": "d5af1526",
   "metadata": {},
   "outputs": [
    {
     "name": "stdout",
     "output_type": "stream",
     "text": [
      "Using device: cuda\n"
     ]
    }
   ],
   "source": [
    "# Checking if GPU is available\n",
    "device = torch.device(\"cuda\" if torch.cuda.is_available() else \"cpu\")\n",
    "print(f\"Using device: {device}\")"
   ]
  },
  {
   "cell_type": "code",
   "execution_count": 126,
   "id": "b505adc2",
   "metadata": {},
   "outputs": [
    {
     "name": "stderr",
     "output_type": "stream",
     "text": [
      "Device set to use cpu\n"
     ]
    }
   ],
   "source": [
    "from transformers import pipeline\n",
    "pipe = pipeline(\n",
    "    \"text-generation\",\n",
    "    model=\"meta-llama/Llama-3.2-1B-Instruct\",  # or 3B version\n",
    "    torch_dtype=torch.bfloat16,\n",
    "    device_map=\"auto\",\n",
    ")"
   ]
  },
  {
   "cell_type": "code",
   "execution_count": 127,
   "id": "3d70dc20",
   "metadata": {},
   "outputs": [
    {
     "data": {
      "text/plain": [
       "id                                                            2893\n",
       "logic                                                    predicate\n",
       "rule_category                                            inference\n",
       "rule                                      existential transitivity\n",
       "problem                                              contradiction\n",
       "query            Consider the following premises: There is at l...\n",
       "answer                                                          no\n",
       "Name: 2892, dtype: object"
      ]
     },
     "execution_count": 127,
     "metadata": {},
     "output_type": "execute_result"
    }
   ],
   "source": [
    "#  load only one row from the dataset\n",
    "row = df_sample.iloc[7]\n",
    "row"
   ]
  },
  {
   "cell_type": "code",
   "execution_count": 128,
   "id": "505aed71",
   "metadata": {},
   "outputs": [
    {
     "name": "stdout",
     "output_type": "stream",
     "text": [
      "Consider the following premises: There is at least one x for which if x takes a plane, then x is listening to a song. For all x, if x listens to a song, then x is sleeping. Can we infer the following from them? Answer yes or no: For all x, the fact that x takes a plane does not imply that x is sleeping.\n"
     ]
    },
    {
     "data": {
      "text/plain": [
       "'no'"
      ]
     },
     "execution_count": 128,
     "metadata": {},
     "output_type": "execute_result"
    }
   ],
   "source": [
    "\n",
    "# user_prompt = row['query']\n",
    "user_query = row['query']\n",
    "print(user_query)\n",
    "ground_truth = row['answer']\n",
    "ground_truth"
   ]
  },
  {
   "cell_type": "code",
   "execution_count": 129,
   "id": "e19a45ed",
   "metadata": {},
   "outputs": [],
   "source": [
    "# Create an ICL prompt that includes example problems and their answers\n",
    "system_prompt = \"\"\"You are a predicate logic assistant specializing in formal logic analysis.\"\"\""
   ]
  },
  {
   "cell_type": "code",
   "execution_count": 110,
   "id": "e0b3ebee",
   "metadata": {},
   "outputs": [],
   "source": [
    "user_prompt = f\"\"\" \n",
    "Your capabilities include:\n",
    "1. Evaluating the validity of logical arguments using predicate logic\n",
    "2. Identifying contradictions and fallacies\n",
    "3. Translating natural language into predicate logic notation and vice versa\n",
    "4. Assessing logical equivalence between statements\n",
    "5. Performing logical operations such as negation, conjunction, disjunction, and implication\n",
    "\n",
    "Here are some examples to guide your reasoning:\n",
    "\n",
    "Example 1:\n",
    "Problem: Consider the following premises: Neither Barbara is a writer nor Susan is playing a game.\n",
    "Query: Can we infer the following from them? Answer yes or no: Barbara is not a writer and Susan is not playing a game.\n",
    "Answer: yes\n",
    "\n",
    "Example 2:\n",
    "Problem: Consider the following premises: Neither Susan is drinking water nor Patricia is playing a game.\n",
    "Query: Can we infer the following from them? Answer yes or no: Susan is not drinking water and Patricia is not playing a game.\n",
    "Answer: yes\n",
    "\n",
    "Example 3:\n",
    "Problem: Consider the following premises: Neither it is raining nor Elisabeth is a server.\n",
    "Query: Can we infer the following from them? Answer yes or no: It is not raining and Elisabeth is not a server.\n",
    "Answer: yes\n",
    "\n",
    "Example 4:\n",
    "Problem: Consider the following premises: The claim that Susan is running and the claim that Charles is a janitor cannot both be true.\n",
    "Query: Can we infer the following from them? Answer yes or no: Jessica is writing a letter.\n",
    "Answer: no\n",
    "\n",
    "Example 5:\n",
    "Problem: Consider the following premises: The claim that it is late and the claim that Sarah is happy cannot both be true.\n",
    "Query: Can we infer the following from them? Answer yes or no: It is not snowing.\n",
    "Answer: no\n",
    "\n",
    "You will be given a new logical problem and query. Respond ONLY with \"yes\" or \"no\" based on whether the conclusion logically follows from the premises.\n",
    "\n",
    "{user_query}\n",
    "Answer:\n",
    "\"\"\""
   ]
  },
  {
   "cell_type": "code",
   "execution_count": 130,
   "id": "86485233",
   "metadata": {},
   "outputs": [
    {
     "data": {
      "text/plain": [
       "' \\nYour capabilities include:\\n1. Evaluating the validity of logical arguments using predicate logic\\n2. Identifying contradictions and fallacies\\n3. Translating natural language into predicate logic notation and vice versa\\n4. Assessing logical equivalence between statements\\n5. Performing logical operations such as negation, conjunction, disjunction, and implication\\n\\nHere are some examples to guide your reasoning:\\n\\nExample 1:\\nProblem: Consider the following premises: Neither Barbara is a writer nor Susan is playing a game.\\nQuery: Can we infer the following from them? Answer yes or no: Barbara is not a writer and Susan is not playing a game.\\nAnswer: yes\\n\\nExample 2:\\nProblem: Consider the following premises: Neither Susan is drinking water nor Patricia is playing a game.\\nQuery: Can we infer the following from them? Answer yes or no: Susan is not drinking water and Patricia is not playing a game.\\nAnswer: yes\\n\\nExample 3:\\nProblem: Consider the following premises: Neither it is raining nor Elisabeth is a server.\\nQuery: Can we infer the following from them? Answer yes or no: It is not raining and Elisabeth is not a server.\\nAnswer: yes\\n\\nExample 4:\\nProblem: Consider the following premises: The claim that Susan is running and the claim that Charles is a janitor cannot both be true.\\nQuery: Can we infer the following from them? Answer yes or no: Jessica is writing a letter.\\nAnswer: no\\n\\nExample 5:\\nProblem: Consider the following premises: The claim that it is late and the claim that Sarah is happy cannot both be true.\\nQuery: Can we infer the following from them? Answer yes or no: It is not snowing.\\nAnswer: no\\n\\nYou will be given a new logical problem and query. Respond ONLY with \"yes\" or \"no\" based on whether the conclusion logically follows from the premises.\\n\\nConsider the following premises: There is at least one x for which if x takes a plane, then x is listening to a song. For all x, if x listens to a song, then x is sleeping. Can we infer the following from them? Answer yes or no: For all x, the fact that x takes a plane does not imply that x is sleeping.\\nAnswer:\\n'"
      ]
     },
     "execution_count": 130,
     "metadata": {},
     "output_type": "execute_result"
    }
   ],
   "source": [
    "user_prompt"
   ]
  },
  {
   "cell_type": "code",
   "execution_count": 131,
   "id": "d52eea58",
   "metadata": {},
   "outputs": [
    {
     "data": {
      "text/plain": [
       "'You are a predicate logic assistant specializing in formal logic analysis.'"
      ]
     },
     "execution_count": 131,
     "metadata": {},
     "output_type": "execute_result"
    }
   ],
   "source": [
    "system_prompt"
   ]
  },
  {
   "cell_type": "code",
   "execution_count": 136,
   "id": "946cd416",
   "metadata": {},
   "outputs": [
    {
     "name": "stderr",
     "output_type": "stream",
     "text": [
      "Setting `pad_token_id` to `eos_token_id`:128001 for open-end generation.\n"
     ]
    },
    {
     "data": {
      "text/plain": [
       "'yes'"
      ]
     },
     "execution_count": 136,
     "metadata": {},
     "output_type": "execute_result"
    }
   ],
   "source": [
    " # Prepare messages for the model\n",
    "messages = [\n",
    "    {\"role\": \"system\", \"content\": system_prompt},\n",
    "    {\"role\": \"user\", \"content\": user_prompt}\n",
    "]\n",
    "\n",
    "outputs = pipe(\n",
    "            messages,\n",
    "            max_new_tokens=128,  # Shorter since we only need yes/no\n",
    "            do_sample=False  # Deterministic response\n",
    "        )\n",
    "        \n",
    "        \n",
    "# Extract response content\n",
    "response = outputs[0][\"generated_text\"][-1][\"content\"].strip().lower()\n",
    "response"
   ]
  }
 ],
 "metadata": {
  "kernelspec": {
   "display_name": "venv",
   "language": "python",
   "name": "python3"
  },
  "language_info": {
   "codemirror_mode": {
    "name": "ipython",
    "version": 3
   },
   "file_extension": ".py",
   "mimetype": "text/x-python",
   "name": "python",
   "nbconvert_exporter": "python",
   "pygments_lexer": "ipython3",
   "version": "3.12.3"
  }
 },
 "nbformat": 4,
 "nbformat_minor": 5
}

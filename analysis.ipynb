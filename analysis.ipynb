{
 "cells": [
  {
   "cell_type": "code",
   "execution_count": 18,
   "id": "4f9c8ae6",
   "metadata": {},
   "outputs": [],
   "source": [
    "import pandas as pd\n",
    "from sklearn.metrics import accuracy_score, precision_score, recall_score, f1_score, confusion_matrix, classification_report"
   ]
  },
  {
   "cell_type": "code",
   "execution_count": 19,
   "id": "b7a5a4bc",
   "metadata": {},
   "outputs": [],
   "source": [
    "# Load results\n",
    "results_df = pd.read_csv(\"results.csv\")"
   ]
  },
  {
   "cell_type": "code",
   "execution_count": 29,
   "id": "7076100c",
   "metadata": {},
   "outputs": [],
   "source": [
    "# Calculate metrics\n",
    "accuracy = accuracy_score(results_df[\"ground_truth\"], results_df[\"prediction\"])\n",
    "precision = precision_score(results_df[\"ground_truth\"], results_df[\"prediction\"], pos_label=\"yes\")\n",
    "recall = recall_score(results_df[\"ground_truth\"], results_df[\"prediction\"], pos_label=\"yes\")\n",
    "f1 = f1_score(results_df[\"ground_truth\"], results_df[\"prediction\"], pos_label=\"yes\")\n"
   ]
  },
  {
   "cell_type": "code",
   "execution_count": 30,
   "id": "2ed0661c",
   "metadata": {},
   "outputs": [
    {
     "name": "stdout",
     "output_type": "stream",
     "text": [
      "Accuracy: 0.3082\n",
      "Precision: 0.3051\n",
      "Recall: 1.0000\n",
      "F1 Score: 0.4676\n"
     ]
    }
   ],
   "source": [
    "# Print results\n",
    "print(f\"Accuracy: {accuracy:.4f}\")\n",
    "print(f\"Precision: {precision:.4f}\")\n",
    "print(f\"Recall: {recall:.4f}\")\n",
    "print(f\"F1 Score: {f1:.4f}\")"
   ]
  },
  {
   "cell_type": "code",
   "execution_count": 15,
   "id": "c627e09b",
   "metadata": {},
   "outputs": [
    {
     "name": "stdout",
     "output_type": "stream",
     "text": [
      "\n",
      "Confusion Matrix:\n",
      "            Predicted Yes  Predicted No\n",
      "Actual Yes            266             7\n",
      "Actual No             668            59\n"
     ]
    }
   ],
   "source": [
    "# Create confusion matrix\n",
    "cm = confusion_matrix(results_df[\"ground_truth\"], results_df[\"prediction\"], labels=[\"yes\", \"no\"])\n",
    "print(\"\\nConfusion Matrix:\")\n",
    "print(pd.DataFrame(cm, index=[\"Actual Yes\", \"Actual No\"], columns=[\"Predicted Yes\", \"Predicted No\"]))"
   ]
  },
  {
   "cell_type": "code",
   "execution_count": 17,
   "id": "ea385def",
   "metadata": {},
   "outputs": [
    {
     "name": "stdout",
     "output_type": "stream",
     "text": [
      "\n",
      "Classification Report:\n",
      "              precision    recall  f1-score   support\n",
      "\n",
      "          no       0.89      0.08      0.15       727\n",
      "         yes       0.28      0.97      0.44       273\n",
      "\n",
      "    accuracy                           0.33      1000\n",
      "   macro avg       0.59      0.53      0.29      1000\n",
      "weighted avg       0.73      0.33      0.23      1000\n",
      "\n"
     ]
    }
   ],
   "source": [
    "# Detailed classification report\n",
    "print(\"\\nClassification Report:\")\n",
    "print(classification_report(results_df[\"ground_truth\"], results_df[\"prediction\"]))"
   ]
  }
 ],
 "metadata": {
  "kernelspec": {
   "display_name": "venv",
   "language": "python",
   "name": "python3"
  },
  "language_info": {
   "codemirror_mode": {
    "name": "ipython",
    "version": 3
   },
   "file_extension": ".py",
   "mimetype": "text/x-python",
   "name": "python",
   "nbconvert_exporter": "python",
   "pygments_lexer": "ipython3",
   "version": "3.12.3"
  }
 },
 "nbformat": 4,
 "nbformat_minor": 5
}
